{
 "cells": [
  {
   "cell_type": "code",
   "execution_count": 3,
   "metadata": {},
   "outputs": [
    {
     "name": "stdout",
     "output_type": "stream",
     "text": [
      "Izu\n",
      "Eric\n",
      "John\n"
     ]
    }
   ],
   "source": [
    "#3.1: Names\n",
    "\n",
    "names=['Izu', 'Eric', 'John']\n",
    "print(names[0])\n",
    "print(names[1])\n",
    "print(names[2])\n"
   ]
  },
  {
   "cell_type": "code",
   "execution_count": 6,
   "metadata": {},
   "outputs": [
    {
     "name": "stdout",
     "output_type": "stream",
     "text": [
      "How was your day Izu\n",
      "How was your day Eric\n",
      "How was your day John\n"
     ]
    }
   ],
   "source": [
    "#3.2: Greetings\n",
    "names=['Izu', 'Eric', 'John']\n",
    "print(f'How was your day {names[0].title()}')\n",
    "print(f'How was your day {names[1].title()}')\n",
    "print(f'How was your day {names[2].title()}')"
   ]
  },
  {
   "cell_type": "code",
   "execution_count": 11,
   "metadata": {},
   "outputs": [
    {
     "name": "stdout",
     "output_type": "stream",
     "text": [
      "Toyota Camry seem popular in my area\n",
      "I would buy a Mecedes for mom next year\n",
      "My dad loves to drive Bmw\n",
      "My favourite car brands are Toyota Camry , Mecedes and Bmw\n"
     ]
    }
   ],
   "source": [
    "#3.3: My own list\n",
    "cars=['Toyota Camry', 'Mecedes', 'Bmw']\n",
    "print(f'{cars[0]} seem popular in my area')\n",
    "print('I would buy a {} for mom next year'.format(cars[1]))\n",
    "print('My dad loves to drive', cars[2])\n",
    "print('My favourite car brands are '+cars[0],',', cars[1], 'and '+cars[2])"
   ]
  },
  {
   "cell_type": "code",
   "execution_count": 15,
   "metadata": {},
   "outputs": [
    {
     "name": "stdout",
     "output_type": "stream",
     "text": [
      "['eric', 'ada', 'izu', 'john']\n",
      "\n",
      "Hello Eric, you are invited for dinner at my place today.\n",
      "\n",
      "Hello Ada, you are invited for dinner at my place today.\n",
      "\n",
      "Hello Izu, you are invited for dinner at my place today.\n",
      "\n",
      "Hello John, you are invited for dinner at my place today.\n"
     ]
    }
   ],
   "source": [
    "#3.4: Guest lists\n",
    "my_guests_list=[]\n",
    "my_guests_list.append('eric')\n",
    "my_guests_list.append('ada')\n",
    "my_guests_list.append('izu')\n",
    "my_guests_list.append('john')\n",
    "\n",
    "print(my_guests_list)\n",
    "\n",
    "print(f'\\nHello {my_guests_list[0].title()}, you are invited for dinner at my place today.' )\n",
    "print(f'\\nHello {my_guests_list[1].title()}, you are invited for dinner at my place today.' )\n",
    "print(f'\\nHello {my_guests_list[2].title()}, you are invited for dinner at my place today.' )\n",
    "print(f'\\nHello {my_guests_list[3].title()}, you are invited for dinner at my place today.' )"
   ]
  },
  {
   "cell_type": "code",
   "execution_count": 33,
   "metadata": {},
   "outputs": [
    {
     "name": "stdout",
     "output_type": "stream",
     "text": [
      "It's so sad, Ada and John can't make it to dinner today.\n",
      "\n",
      "Hello Eric, you are invited for dinner at my place today.\n",
      "\n",
      "Hello Izu, you are invited for dinner at my place today.\n",
      "\n",
      "Hello Ebuka, you are invited for dinner at my place today.\n",
      "\n",
      "Hello Victor, you are invited for dinner at my place today.\n"
     ]
    }
   ],
   "source": [
    "#3.5 Changing guests list\n",
    "\n",
    "my_guests_list=[]\n",
    "my_guests_list.append('eric')\n",
    "my_guests_list.append('ada')\n",
    "my_guests_list.append('izu')\n",
    "my_guests_list.append('john')\n",
    "print(f\"It's so sad, {my_guests_list[1].title()} and {my_guests_list[3].title()} can't make it to dinner today.\" )\n",
    "\n",
    "my_guests_list.pop(1)\n",
    "del my_guests_list[2]\n",
    "\n",
    "my_guests_list.append('ebuka')\n",
    "my_guests_list.append('victor')\n",
    "\n",
    "\n",
    "print(f'\\nHello {my_guests_list[0].title()}, you are invited for dinner at my place today.' )\n",
    "print(f'\\nHello {my_guests_list[1].title()}, you are invited for dinner at my place today.' )\n",
    "print(f'\\nHello {my_guests_list[2].title()}, you are invited for dinner at my place today.' )\n",
    "print(f'\\nHello {my_guests_list[3].title()}, you are invited for dinner at my place today.' )\n",
    "\n"
   ]
  },
  {
   "cell_type": "code",
   "execution_count": 44,
   "metadata": {},
   "outputs": [
    {
     "name": "stdout",
     "output_type": "stream",
     "text": [
      "Goodnews, I just found a bigger dinner table with more space and so will be adding more names to my list.\n",
      "\n",
      "Hello Obinna, you are invited for dinner at my place today.\n",
      "\n",
      "Hello Eric, you are invited for dinner at my place today.\n",
      "\n",
      "Hello Izu, you are invited for dinner at my place today.\n",
      "\n",
      "Hello Peter, you are invited for dinner at my place today.\n",
      "\n",
      "Hello Ebuka, you are invited for dinner at my place today.\n",
      "\n",
      "Hello Victor, you are invited for dinner at my place today.\n",
      "\n",
      "Hello Ama, you are invited for dinner at my place today.\n",
      "\n",
      "Hello Ray, you are invited for dinner at my place today.\n"
     ]
    }
   ],
   "source": [
    "#3.6: More guests\n",
    "my_guests_list=['eric', 'izu', 'ebuka', 'victor', 'ama']\n",
    "print('Goodnews, I just found a bigger dinner table with more space and so will be adding more names to my list.')\n",
    "\n",
    "my_guests_list.insert(0,'obinna')#adding one guest name at the beginning of my list\n",
    "my_guests_list.insert(3, 'peter')#adding one guest name at the center of my list\n",
    "my_guests_list.append('ray') #adding one guest name at the end of my list\n",
    "\n",
    "#sending invitation to guests on my list\n",
    "print(f'\\nHello {my_guests_list[0].title()}, you are invited for dinner at my place today.' )\n",
    "print(f'\\nHello {my_guests_list[1].title()}, you are invited for dinner at my place today.' )\n",
    "print(f'\\nHello {my_guests_list[2].title()}, you are invited for dinner at my place today.' )\n",
    "print(f'\\nHello {my_guests_list[3].title()}, you are invited for dinner at my place today.' )\n",
    "print(f'\\nHello {my_guests_list[4].title()}, you are invited for dinner at my place today.' )\n",
    "print(f'\\nHello {my_guests_list[5].title()}, you are invited for dinner at my place today.' )\n",
    "print(f'\\nHello {my_guests_list[6].title()}, you are invited for dinner at my place today.' )\n",
    "print(f'\\nHello {my_guests_list[7].title()}, you are invited for dinner at my place today.' )"
   ]
  },
  {
   "cell_type": "code",
   "execution_count": 60,
   "metadata": {},
   "outputs": [
    {
     "name": "stdout",
     "output_type": "stream",
     "text": [
      "Goodnews, I just found a bigger dinner table with more space and so will be adding more names to my list.\n",
      "\n",
      "Hello Obinna, you are invited for dinner at my place today.\n",
      "Hello Eric, you are invited for dinner at my place today.\n",
      "Hello Izu, you are invited for dinner at my place today.\n",
      "Hello Peter, you are invited for dinner at my place today.\n",
      "Hello Ebuka, you are invited for dinner at my place today.\n",
      "Hello Victor, you are invited for dinner at my place today.\n",
      "Hello Ama, you are invited for dinner at my place today.\n",
      "Hello Ray, you are invited for dinner at my place today.\n",
      "\n",
      "YOU CAN INVITE ONLY TWO PEOPLE FOR DINNER!!!\n",
      "\n",
      "I'm so sorry Obinna, you aren't invited for dinner at my place today.\n",
      "I'm so sorry Ebuka, you aren't invited for dinner at my place today.\n",
      "I'm so sorry Ama, you aren't invited for dinner at my place today.\n",
      "I'm so sorry Ray, you aren't invited for dinner at my place today.\n",
      "I'm so sorry Victor, you aren't invited for dinner at my place today.\n",
      "I'm so sorry Peter, you aren't invited for dinner at my place today.\n",
      "\n",
      "Hello Eric, you are Still invited for dinner at my place today.\n",
      "Hello Izu, you are still invited for dinner at my place today.\n",
      "[]\n"
     ]
    }
   ],
   "source": [
    "#3.7: Shrinking Guest list\n",
    "my_guests_list=['eric', 'izu', 'ebuka', 'victor', 'ama']\n",
    "print('Goodnews, I just found a bigger dinner table with more space and so will be adding more names to my list.')\n",
    "\n",
    "my_guests_list.insert(0,'obinna')#adding one guest name at the beginning of my list\n",
    "my_guests_list.insert(3, 'peter')#adding one guest name at the center of my list\n",
    "my_guests_list.append('ray') #adding one guest name at the end of my list\n",
    "\n",
    "#sending invitation to guests on my list\n",
    "print(f'\\nHello {my_guests_list[0].title()}, you are invited for dinner at my place today.' )\n",
    "print(f'Hello {my_guests_list[1].title()}, you are invited for dinner at my place today.' )\n",
    "print(f'Hello {my_guests_list[2].title()}, you are invited for dinner at my place today.' )\n",
    "print(f'Hello {my_guests_list[3].title()}, you are invited for dinner at my place today.' )\n",
    "print(f'Hello {my_guests_list[4].title()}, you are invited for dinner at my place today.' )\n",
    "print(f'Hello {my_guests_list[5].title()}, you are invited for dinner at my place today.' )\n",
    "print(f'Hello {my_guests_list[6].title()}, you are invited for dinner at my place today.' )\n",
    "print(f'Hello {my_guests_list[7].title()}, you are invited for dinner at my place today.' )\n",
    "\n",
    "#for each name taken out, I send them a message\n",
    "\n",
    "print('\\nYou can invite only two people for dinner!!!'.upper())\n",
    "\n",
    "a=my_guests_list.pop(0)\n",
    "print(f\"\\nI'm so sorry {a.title()}, you aren't invited for dinner at my place today.\" )\n",
    "\n",
    "b=my_guests_list.pop(3)\n",
    "print(f\"I'm so sorry {b.title()}, you aren't invited for dinner at my place today.\" )\n",
    "\n",
    "c=my_guests_list.pop(4)\n",
    "print(f\"I'm so sorry {c.title()}, you aren't invited for dinner at my place today.\" )\n",
    "\n",
    "d=my_guests_list.pop(4)\n",
    "print(f\"I'm so sorry {d.title()}, you aren't invited for dinner at my place today.\" )\n",
    "\n",
    "e=my_guests_list.pop(3)\n",
    "print(f\"I'm so sorry {e.title()}, you aren't invited for dinner at my place today.\" )\n",
    "\n",
    "f=my_guests_list.pop(2)\n",
    "print(f\"I'm so sorry {f.title()}, you aren't invited for dinner at my place today.\" )\n",
    "\n",
    "#Notifying the people on my list that they are still invited for dinner\n",
    "print(f'\\nHello {my_guests_list[0].title()}, you are Still invited for dinner at my place today.' )\n",
    "print(f'Hello {my_guests_list[1].title()}, you are still invited for dinner at my place today.' )\n",
    "\n",
    "#Deleting the list\n",
    "del my_guests_list[0]\n",
    "del my_guests_list[0]\n",
    "print(my_guests_list)\n"
   ]
  },
  {
   "cell_type": "code",
   "execution_count": 73,
   "metadata": {},
   "outputs": [
    {
     "name": "stdout",
     "output_type": "stream",
     "text": [
      "['usa', 'canada', 'finland', 'dubai']\n",
      "['canada', 'dubai', 'finland', 'usa']\n",
      "['usa', 'canada', 'finland', 'dubai']\n",
      "['usa', 'finland', 'dubai', 'canada']\n",
      "['usa', 'canada', 'finland', 'dubai']\n",
      "['dubai', 'finland', 'canada', 'usa']\n",
      "['usa', 'canada', 'finland', 'dubai']\n",
      "['canada', 'dubai', 'finland', 'usa']\n",
      "['usa', 'finland', 'dubai', 'canada']\n"
     ]
    }
   ],
   "source": [
    "#3.8: Seeing the world\n",
    "\n",
    "countries_to_visit=['usa', 'canada', 'finland', 'dubai']\n",
    "print(countries_to_visit)\n",
    "print(sorted(countries_to_visit))\n",
    "\n",
    "#printing my list again to show it is still in its original order after using sorted function\n",
    "print(countries_to_visit)\n",
    "\n",
    "#reversing the order of sorted list\n",
    "print(sorted(countries_to_visit, reverse=True))\n",
    "\n",
    "#show that my list is in its original order by printing again\n",
    "print(countries_to_visit)\n",
    "\n",
    "#using reverse() to change the order of my list and printing\n",
    "countries_to_visit.reverse()\n",
    "print(countries_to_visit)\n",
    "\n",
    "#using reverse() to change the order of my list again and printing\n",
    "countries_to_visit.reverse()\n",
    "print(countries_to_visit)\n",
    "\n",
    "#using sort() to change the order of my list and printing\n",
    "countries_to_visit.sort()\n",
    "print(countries_to_visit)\n",
    "\n",
    "#change the order of the sort list to be in reverse alphabetical order\n",
    "countries_to_visit.sort(reverse=True)\n",
    "print(countries_to_visit)"
   ]
  },
  {
   "cell_type": "code",
   "execution_count": 74,
   "metadata": {},
   "outputs": [
    {
     "name": "stdout",
     "output_type": "stream",
     "text": [
      "I'm inviting a total of 5 people for dinner.\n"
     ]
    }
   ],
   "source": [
    "#3.9: Dinner guests\n",
    "\n",
    "my_guests_list=['eric', 'izu', 'ebuka', 'victor', 'ama']\n",
    "\n",
    "print(f\"I'm inviting a total of {len(my_guests_list)} people for dinner.\")"
   ]
  },
  {
   "cell_type": "code",
   "execution_count": null,
   "metadata": {},
   "outputs": [],
   "source": []
  }
 ],
 "metadata": {
  "kernelspec": {
   "display_name": "Python 3",
   "language": "python",
   "name": "python3"
  },
  "language_info": {
   "codemirror_mode": {
    "name": "ipython",
    "version": 3
   },
   "file_extension": ".py",
   "mimetype": "text/x-python",
   "name": "python",
   "nbconvert_exporter": "python",
   "pygments_lexer": "ipython3",
   "version": "3.7.0"
  }
 },
 "nbformat": 4,
 "nbformat_minor": 2
}
