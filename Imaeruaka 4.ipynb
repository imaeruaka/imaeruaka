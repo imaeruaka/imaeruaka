{
 "cells": [
  {
   "cell_type": "code",
   "execution_count": 4,
   "metadata": {},
   "outputs": [
    {
     "name": "stdout",
     "output_type": "stream",
     "text": [
      "How many sides do you wish to have of the object to be drawn? 8\n",
      "Choose a color for the object... red\n",
      "Select an angle...50\n",
      "Choose a length for the object...150\n",
      "Nice try, have fun!!!\n"
     ]
    }
   ],
   "source": [
    "#Drawing of shapes\n",
    "\n",
    "numberOfSides=int(input('How many sides do you wish to have of the object to be drawn? '))\n",
    "penColor=input('Choose a color for the object... ').lower()\n",
    "angle=int(input('Select an angle...'))\n",
    "length=int(input('Choose a length for the object...'))\n",
    "\n",
    "import turtle\n",
    "\n",
    "for nSides in range(numberOfSides):\n",
    "    turtle.color(penColor)\n",
    "    turtle.forward(length)\n",
    "    turtle.right(360/numberOfSides)\n",
    "    for nSides in range(numberOfSides):\n",
    "        turtle.color(penColor)\n",
    "        turtle.forward(length/2)\n",
    "        turtle.right(360/numberOfSides)\n",
    "for nSides in range(numberOfSides):\n",
    "    turtle.color(penColor)\n",
    "    turtle.forward(length*2)\n",
    "    turtle.right(360/numberOfSides)\n",
    "if length==0:\n",
    "    print('Length can not be zero')\n",
    "\n",
    "print('Nice try, have fun!!!')"
   ]
  },
  {
   "cell_type": "code",
   "execution_count": null,
   "metadata": {},
   "outputs": [],
   "source": []
  }
 ],
 "metadata": {
  "kernelspec": {
   "display_name": "Python 3",
   "language": "python",
   "name": "python3"
  },
  "language_info": {
   "codemirror_mode": {
    "name": "ipython",
    "version": 3
   },
   "file_extension": ".py",
   "mimetype": "text/x-python",
   "name": "python",
   "nbconvert_exporter": "python",
   "pygments_lexer": "ipython3",
   "version": "3.7.0"
  }
 },
 "nbformat": 4,
 "nbformat_minor": 2
}
