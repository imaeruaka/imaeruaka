{
 "cells": [
  {
   "cell_type": "code",
   "execution_count": 1,
   "metadata": {},
   "outputs": [
    {
     "name": "stdout",
     "output_type": "stream",
     "text": [
      "Enter Number in Millimeters you wish to convert to Meters: 100\n",
      "100 Millimeters to Meters is:  0.1 Meters\n"
     ]
    }
   ],
   "source": [
    "#Convertion of numbers in Millimeter to Meters\n",
    "\n",
    "def mm_to_m (mm):\n",
    "    meters=mm/1000\n",
    "    return meters\n",
    "\n",
    "num=int(input('Enter Number in Millimeters you wish to convert to Meters: '))\n",
    "\n",
    "print(num, 'Millimeters to Meters is: ', mm_to_m(num), 'Meters')"
   ]
  },
  {
   "cell_type": "code",
   "execution_count": 3,
   "metadata": {},
   "outputs": [
    {
     "name": "stdout",
     "output_type": "stream",
     "text": [
      "Enter the value of radius for the circle to calculate it's area8\n",
      "\n",
      "The area of a circle with radius 8 unit\n",
      "is:  200.96 square unit.\n"
     ]
    }
   ],
   "source": [
    "#Calculating the area of a circle\n",
    "pi=3.14\n",
    "def circle_area (radius):\n",
    "    return pi*radius*radius\n",
    "\n",
    "value_radius=int(input(\"Enter the value of radius for the circle to calculate it's area: \"))\n",
    "print('''\n",
    "The area of a circle with radius''', value_radius, '''unit\n",
    "is: ''',circle_area(value_radius), '''square unit.''')"
   ]
  },
  {
   "cell_type": "code",
   "execution_count": 4,
   "metadata": {},
   "outputs": [
    {
     "name": "stdout",
     "output_type": "stream",
     "text": [
      "Enter the value of radius for the circle to calculate it's area: 34\n",
      "\n",
      "The area of a circle with radius 34 unit\n",
      "is:  14519.36 square unit.\n"
     ]
    }
   ],
   "source": [
    "#Calculating the area of a sphere\n",
    "pi=3.14\n",
    "def sphere_area (radius):\n",
    "    return 4*pi*radius*radius\n",
    "\n",
    "value_radius=int(input(\"Enter the value of radius for the circle to calculate it's area: \"))\n",
    "print('''\n",
    "The area of a circle with radius''', value_radius, '''unit\n",
    "is: ''',sphere_area(value_radius), '''square unit.''')"
   ]
  },
  {
   "cell_type": "code",
   "execution_count": null,
   "metadata": {},
   "outputs": [],
   "source": []
  }
 ],
 "metadata": {
  "kernelspec": {
   "display_name": "Python 3",
   "language": "python",
   "name": "python3"
  },
  "language_info": {
   "codemirror_mode": {
    "name": "ipython",
    "version": 3
   },
   "file_extension": ".py",
   "mimetype": "text/x-python",
   "name": "python",
   "nbconvert_exporter": "python",
   "pygments_lexer": "ipython3",
   "version": "3.7.0"
  }
 },
 "nbformat": 4,
 "nbformat_minor": 2
}
