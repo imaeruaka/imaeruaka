{
 "cells": [
  {
   "cell_type": "code",
   "execution_count": 3,
   "metadata": {},
   "outputs": [
    {
     "name": "stdout",
     "output_type": "stream",
     "text": [
      "Enter TOTAL SCORE: 68\n",
      "\n",
      "    Your grade is: B\n",
      "    \n",
      "    Very good score.\n",
      "\n",
      "There's still room for improvement\n"
     ]
    }
   ],
   "source": [
    "#Using conditional statement for checking result grades\n",
    "\n",
    "grade_stu=int(input('Enter TOTAL SCORE: '))\n",
    "\n",
    "if grade_stu>70:\n",
    "    print('''\n",
    "    Your grade is: A\n",
    "    \n",
    "    Excellent score.''')\n",
    "\n",
    "elif grade_stu<69 and grade_stu>=50:\n",
    "    print('''\n",
    "    Your grade is: B\n",
    "    \n",
    "    Very good score.''')\n",
    "\n",
    "elif grade_stu<50 and grade_stu>=40:\n",
    "    print('''\n",
    "    Your grade is: C\n",
    "    \n",
    "    Good score.''')\n",
    "\n",
    "if grade_stu<40:\n",
    "    print('''\n",
    "    Your grade is: F\n",
    "    \n",
    "    Failed''')\n",
    "    \n",
    "print('''\n",
    "There's still room for improvement''')"
   ]
  },
  {
   "cell_type": "code",
   "execution_count": null,
   "metadata": {},
   "outputs": [],
   "source": []
  },
  {
   "cell_type": "code",
   "execution_count": null,
   "metadata": {},
   "outputs": [],
   "source": []
  }
 ],
 "metadata": {
  "kernelspec": {
   "display_name": "Python 3",
   "language": "python",
   "name": "python3"
  },
  "language_info": {
   "codemirror_mode": {
    "name": "ipython",
    "version": 3
   },
   "file_extension": ".py",
   "mimetype": "text/x-python",
   "name": "python",
   "nbconvert_exporter": "python",
   "pygments_lexer": "ipython3",
   "version": "3.7.0"
  }
 },
 "nbformat": 4,
 "nbformat_minor": 2
}
