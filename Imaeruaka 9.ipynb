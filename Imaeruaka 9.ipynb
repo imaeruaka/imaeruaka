{
 "cells": [
  {
   "cell_type": "code",
   "execution_count": 3,
   "metadata": {},
   "outputs": [
    {
     "name": "stdout",
     "output_type": "stream",
     "text": [
      "please input the unique emplyees password: \n",
      "ggg\n",
      "Invalid password\n",
      "please input the unique emplyees password: \n",
      "google2000\n",
      "Thank you, you typed the correct password\n"
     ]
    }
   ],
   "source": [
    "#Getting a unique user password from company workers\n",
    "\n",
    "while True:\n",
    "        print('please input the unique emplyees password: ')\n",
    "        passWord=input().capitalize()\n",
    "        if passWord!='Google2000':\n",
    "            print('Invalid password')\n",
    "        if passWord=='Google2000':\n",
    "            break\n",
    "print('Thank you, you typed the correct password')"
   ]
  },
  {
   "cell_type": "code",
   "execution_count": null,
   "metadata": {},
   "outputs": [],
   "source": []
  }
 ],
 "metadata": {
  "kernelspec": {
   "display_name": "Python 3",
   "language": "python",
   "name": "python3"
  },
  "language_info": {
   "codemirror_mode": {
    "name": "ipython",
    "version": 3
   },
   "file_extension": ".py",
   "mimetype": "text/x-python",
   "name": "python",
   "nbconvert_exporter": "python",
   "pygments_lexer": "ipython3",
   "version": "3.7.0"
  }
 },
 "nbformat": 4,
 "nbformat_minor": 2
}
