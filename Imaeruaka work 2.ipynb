{
 "cells": [
  {
   "cell_type": "code",
   "execution_count": 6,
   "metadata": {},
   "outputs": [
    {
     "name": "stdout",
     "output_type": "stream",
     "text": [
      "What's your monthly pay in dollars? 29000\n",
      "\n",
      "To manage your montly payment, you must not exceed these spending limits;\n",
      "\n",
      "Necessity cost of - $ 14500.0\n",
      "\n",
      "Church tite - $ 2900.0\n",
      "\n",
      "Budget for Emergency - $ 2900.0\n",
      "\n",
      "Budget for Investment - $ 4350.0\n",
      "\n",
      "Investment of Learning - $ 2175.0\n",
      "\n",
      "Budget for fun - $ 21750.0\n",
      "\n",
      "\n",
      "Spend wisely and avoid being broke!!!\n"
     ]
    }
   ],
   "source": [
    "#Management of monthly payment for a christian\n",
    "\n",
    "monthlyPay=0\n",
    "monthlyPay=int(input(\"What's your monthly pay in dollars? \"))\n",
    "\n",
    "a=monthlyPay\n",
    "\n",
    "tite=(0.1*a)\n",
    "necessity=(0.5*a)\n",
    "emergency=(0.1*a)\n",
    "investment=(0.15*a)\n",
    "learning=(0.075*a)\n",
    "fun=(0.75*a)\n",
    "\n",
    "print('''\n",
    "To manage your montly payment, you must not exceed these spending limits;\n",
    "\n",
    "Necessity cost of - $ {}\n",
    "\n",
    "Church tite - $ {}\n",
    "\n",
    "Budget for Emergency - $ {}\n",
    "\n",
    "Budget for Investment - $ {}\n",
    "\n",
    "Investment of Learning - $ {}\n",
    "\n",
    "Budget for fun - $ {}'''.format(necessity,tite,emergency,investment,learning,fun))\n",
    "\n",
    "print('''\n",
    "\n",
    "Spend wisely and avoid being broke!!!''')\n"
   ]
  },
  {
   "cell_type": "code",
   "execution_count": null,
   "metadata": {},
   "outputs": [],
   "source": []
  }
 ],
 "metadata": {
  "kernelspec": {
   "display_name": "Python 3",
   "language": "python",
   "name": "python3"
  },
  "language_info": {
   "codemirror_mode": {
    "name": "ipython",
    "version": 3
   },
   "file_extension": ".py",
   "mimetype": "text/x-python",
   "name": "python",
   "nbconvert_exporter": "python",
   "pygments_lexer": "ipython3",
   "version": "3.7.0"
  }
 },
 "nbformat": 4,
 "nbformat_minor": 2
}
