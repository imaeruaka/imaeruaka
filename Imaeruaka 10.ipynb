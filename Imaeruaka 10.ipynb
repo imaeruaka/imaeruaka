{
 "cells": [
  {
   "cell_type": "code",
   "execution_count": null,
   "metadata": {},
   "outputs": [
    {
     "name": "stdout",
     "output_type": "stream",
     "text": [
      "57\n"
     ]
    }
   ],
   "source": [
    "#Guessing game\n",
    "\n",
    "import random\n",
    "num=random.randint(1,100)\n",
    "print(num)\n",
    "\n",
    "your_guess=int(input('Enter a number between 1 to 100: '))\n",
    "\n",
    "while num!=your_guess:\n",
    "    print('''\n",
    "    You guessed wrongly...\n",
    "    ''')\n",
    "   \n",
    "    if your_guess<num:\n",
    "        print('Your guess is low')\n",
    "        your_guess=int(input('Enter a number between 1 to 100: '))\n",
    "    \n",
    "    else:\n",
    "        if your_guess>num:\n",
    "            print('Your guess is high')\n",
    "            your_guess=int(input('Enter a number between 1 to 100: '))\n",
    "    if your_guess==num:\n",
    "        print('You guessed it correctly!!!')\n",
    "        \n",
    "        break\n",
    "    print()"
   ]
  },
  {
   "cell_type": "code",
   "execution_count": 17,
   "metadata": {},
   "outputs": [
    {
     "name": "stdout",
     "output_type": "stream",
     "text": [
      "Apple Red\n",
      "\n",
      "Veggies Red\n",
      "\n",
      "Shirt Red\n",
      "\n",
      "Apple Green\n",
      "\n",
      "Veggies Green\n",
      "\n",
      "Shirt Green\n",
      "\n",
      "Apple Blue\n",
      "\n",
      "Veggies Blue\n",
      "\n",
      "Shirt Blue\n",
      "\n"
     ]
    }
   ],
   "source": []
  },
  {
   "cell_type": "code",
   "execution_count": 25,
   "metadata": {},
   "outputs": [
    {
     "name": "stdout",
     "output_type": "stream",
     "text": [
      "* \n",
      "* \n",
      "* \n",
      "* \n",
      "* \n",
      "* \n",
      "* \n",
      "* \n",
      "* \n",
      "* \n",
      "* \n",
      "* \n",
      "* \n",
      "* \n",
      "* \n",
      "* \n",
      "* \n",
      "* \n",
      "* \n",
      "* \n",
      "* \n",
      "* \n",
      "* \n",
      "* \n",
      "* \n"
     ]
    }
   ],
   "source": []
  },
  {
   "cell_type": "code",
   "execution_count": 33,
   "metadata": {},
   "outputs": [
    {
     "name": "stdout",
     "output_type": "stream",
     "text": [
      "\n",
      "* \n",
      "* * \n",
      "* * * \n",
      "* * * * \n",
      "* * * * * \n",
      "* * * * * * \n",
      "* * * * * * * \n",
      "* * * * * * * * \n",
      "* * * * * * * * * \n"
     ]
    }
   ],
   "source": []
  },
  {
   "cell_type": "code",
   "execution_count": 31,
   "metadata": {},
   "outputs": [
    {
     "name": "stdout",
     "output_type": "stream",
     "text": [
      "* \n",
      "* \n",
      "* \n",
      "* \n",
      "* \n",
      "* \n",
      "* \n",
      "* \n",
      "* \n",
      "* \n"
     ]
    }
   ],
   "source": []
  },
  {
   "cell_type": "code",
   "execution_count": 40,
   "metadata": {},
   "outputs": [
    {
     "name": "stdout",
     "output_type": "stream",
     "text": [
      "10 * 60 = 600\n",
      "10 * 15 = 150\n",
      "25 * 60 = 1500\n",
      "25 * 15 = 375\n"
     ]
    }
   ],
   "source": []
  },
  {
   "cell_type": "code",
   "execution_count": null,
   "metadata": {},
   "outputs": [],
   "source": []
  }
 ],
 "metadata": {
  "kernelspec": {
   "display_name": "Python 3",
   "language": "python",
   "name": "python3"
  },
  "language_info": {
   "codemirror_mode": {
    "name": "ipython",
    "version": 3
   },
   "file_extension": ".py",
   "mimetype": "text/x-python",
   "name": "python",
   "nbconvert_exporter": "python",
   "pygments_lexer": "ipython3",
   "version": "3.7.0"
  }
 },
 "nbformat": 4,
 "nbformat_minor": 2
}
