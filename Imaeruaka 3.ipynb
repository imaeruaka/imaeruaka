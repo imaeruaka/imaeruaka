{
 "cells": [
  {
   "cell_type": "code",
   "execution_count": 2,
   "metadata": {},
   "outputs": [
    {
     "name": "stdout",
     "output_type": "stream",
     "text": [
      "Enter the amount for your total purchase.   100\n",
      "Shipping cost is free\n",
      "Your TOTAL COST (shipping rate inclusive) is $ 100 \n",
      "Have a nice day...\n"
     ]
    }
   ],
   "source": [
    "#Calculating of shipping cost with a simple code, using conditions\n",
    "totalPurchase = 0\n",
    "totalPurchase=int(input('Enter the amount for your total purchase.   '))\n",
    "\n",
    "if totalPurchase<50 and totalPurchase>=30:\n",
    "    totalPurchase = totalPurchase+5\n",
    "\n",
    "elif totalPurchase<30:\n",
    "    totalPurchase = totalPurchase+10\n",
    "\n",
    "else:\n",
    "    print('Shipping cost is free')\n",
    "\n",
    "print('Your TOTAL COST (shipping rate inclusive) is $ %d \\nHave a nice day...'%(totalPurchase))"
   ]
  },
  {
   "cell_type": "code",
   "execution_count": 20,
   "metadata": {},
   "outputs": [
    {
     "name": "stdout",
     "output_type": "stream",
     "text": [
      "Here is a calculation of order total and strictly for those from Canada\n",
      " \n",
      "What country are you from? canada\n",
      "What's your order total?1000\n",
      "What province? new brunswnk\n",
      "Hello, your TOTAL CHARGE is $  1130.0 (harmonized sales tax inclusive), Thanks.\n",
      "\n",
      "\n",
      "Have a nice day...\n"
     ]
    }
   ],
   "source": [
    "print('Here is a calculation of order total and strictly for those from Canada\\n ')\n",
    "\n",
    "country=input('What country are you from? ').upper()\n",
    "orderTotal=int(input(\"What's your order total?\"))\n",
    "\n",
    "if country=='CANADA':\n",
    "    province=input('What province? ').upper()\n",
    "    if province=='ALBERTA':\n",
    "        totalCharge=(orderTotal+(orderTotal*0.05))\n",
    "        print('Hello, your TOTAL CHARGE is $ ',totalCharge,'(general sales tax inclusive), Thanks.')\n",
    "\n",
    "    else:\n",
    "        if province=='ONTARIO' and 'NEW BRUNSWNK' or 'NOVA SCOHA':\n",
    "            totalCharge=(orderTotal + (orderTotal*0.13))\n",
    "            print('Hello, your TOTAL CHARGE is $ ',totalCharge,'(harmonized sales tax inclusive), Thanks.')\n",
    "    \n",
    "        elif province!='ONTARIO' or 'NEW BRUNSWNK' or 'NOVA SCOHA'or 'ALBERTA': \n",
    "            totalCharge=(orderTotal+(orderTotal*0.16)+(orderTotal*0.05))\n",
    "            print('Hello, your TOTAL CHARGE is $ ',totalCharge, 'Thanks.')\n",
    "elif country!='CANADA':\n",
    "    print('This calculation is for Canada ONLY!!!')\n",
    "print('''\n",
    "\n",
    "Have a nice day...''')\n"
   ]
  },
  {
   "cell_type": "code",
   "execution_count": null,
   "metadata": {},
   "outputs": [],
   "source": []
  },
  {
   "cell_type": "code",
   "execution_count": null,
   "metadata": {},
   "outputs": [],
   "source": []
  }
 ],
 "metadata": {
  "kernelspec": {
   "display_name": "Python 3",
   "language": "python",
   "name": "python3"
  },
  "language_info": {
   "codemirror_mode": {
    "name": "ipython",
    "version": 3
   },
   "file_extension": ".py",
   "mimetype": "text/x-python",
   "name": "python",
   "nbconvert_exporter": "python",
   "pygments_lexer": "ipython3",
   "version": "3.7.0"
  }
 },
 "nbformat": 4,
 "nbformat_minor": 2
}
