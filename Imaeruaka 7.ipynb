{
 "cells": [
  {
   "cell_type": "code",
   "execution_count": 4,
   "metadata": {},
   "outputs": [
    {
     "name": "stdout",
     "output_type": "stream",
     "text": [
      "The AVERAGE of numbers in the LIST is:  56\n"
     ]
    }
   ],
   "source": [
    "#printing the average of a list of numbers\n",
    "\n",
    "import math\n",
    "listNum=[23,44,21,56,77,88,98,33,54,67,45,28,91]\n",
    "\n",
    "a=sum(listNum)\n",
    "b=len(listNum)\n",
    "\n",
    "average=(math.ceil(a/b))\n",
    "print('The AVERAGE of numbers in the LIST is: ',average)"
   ]
  },
  {
   "cell_type": "code",
   "execution_count": null,
   "metadata": {},
   "outputs": [],
   "source": []
  }
 ],
 "metadata": {
  "kernelspec": {
   "display_name": "Python 3",
   "language": "python",
   "name": "python3"
  },
  "language_info": {
   "codemirror_mode": {
    "name": "ipython",
    "version": 3
   },
   "file_extension": ".py",
   "mimetype": "text/x-python",
   "name": "python",
   "nbconvert_exporter": "python",
   "pygments_lexer": "ipython3",
   "version": "3.7.0"
  }
 },
 "nbformat": 4,
 "nbformat_minor": 2
}
