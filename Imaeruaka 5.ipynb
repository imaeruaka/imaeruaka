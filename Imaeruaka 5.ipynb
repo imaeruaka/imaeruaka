{
 "cells": [
  {
   "cell_type": "code",
   "execution_count": 2,
   "metadata": {},
   "outputs": [],
   "source": [
    "#Creating a file and saving in a location on my pc\n",
    "\n",
    "myNewFile= open('C:/Users/HP/Desktop/pythone files/ImaeruakaNewFile.txt','w')\n",
    "myNewFile.write('Here is a new file i created')\n",
    "myNewFile.close()"
   ]
  },
  {
   "cell_type": "code",
   "execution_count": 4,
   "metadata": {},
   "outputs": [],
   "source": [
    "#Creating a csv file to hold few emails\n",
    "emailList=open('C:/Users/HP/Desktop/pythone files/EmailList.csv','w')\n",
    "emailList.write('''imaeruaka@gmail.com\n",
    "john@gmail.com\n",
    "joseph@gmail.com\n",
    "aba@gmail.com\n",
    "daniel@gmail.com''')\n",
    "emailList.close()\n"
   ]
  },
  {
   "cell_type": "code",
   "execution_count": 5,
   "metadata": {},
   "outputs": [],
   "source": [
    "#creating an mp3 file\n",
    "sampleFile=open('C:/Users/HP/Desktop/pythone files/my_MP3.mp3','w')\n",
    "sampleFile.close()"
   ]
  },
  {
   "cell_type": "code",
   "execution_count": null,
   "metadata": {},
   "outputs": [],
   "source": []
  }
 ],
 "metadata": {
  "kernelspec": {
   "display_name": "Python 3",
   "language": "python",
   "name": "python3"
  },
  "language_info": {
   "codemirror_mode": {
    "name": "ipython",
    "version": 3
   },
   "file_extension": ".py",
   "mimetype": "text/x-python",
   "name": "python",
   "nbconvert_exporter": "python",
   "pygments_lexer": "ipython3",
   "version": "3.7.0"
  }
 },
 "nbformat": 4,
 "nbformat_minor": 2
}
