{
 "cells": [
  {
   "cell_type": "code",
   "execution_count": 7,
   "metadata": {},
   "outputs": [
    {
     "name": "stdout",
     "output_type": "stream",
     "text": [
      "I love Chicken pizza.\n",
      "Chicken pizza tastes better.\n",
      "\n",
      "I love Beef pizza.\n",
      "Beef pizza tastes better.\n",
      "\n",
      "I love Pepperoni pizza.\n",
      "Pepperoni pizza tastes better.\n",
      "\n",
      "I really love pizza!!!\n"
     ]
    }
   ],
   "source": [
    "#4.1: Pizza\n",
    "#Think of at least three kinds of your favorite pizza. Store these\n",
    "#pizza names in a list, and then use a for loop to print the name of each pizza.\n",
    "#Modify your for loop to print a sentence using the name of the pizza\n",
    "#instead of printing just the name of the pizza. For each pizza you should\n",
    "#have one line of output containing a simple statement like I like pepperoni pizza.\n",
    "\n",
    "#Add a line at the end of your program, outside the for loop, that states\n",
    "#how much you like pizza. The output should consist of three or more lines\n",
    "#about the kinds of pizza you like and then an additional sentence, such as\n",
    "#I really love pizza!\n",
    "\n",
    "pizzas=['chicken', 'beef', 'pepperoni']\n",
    "\n",
    "for pizza in pizzas:\n",
    "    print(f'I love {pizza.title()} pizza.')\n",
    "    print(f'{pizza.title()} pizza tastes better.\\n')\n",
    "print('I really love pizza!!!')"
   ]
  },
  {
   "cell_type": "code",
   "execution_count": 16,
   "metadata": {},
   "outputs": [
    {
     "name": "stdout",
     "output_type": "stream",
     "text": [
      "Duck \n",
      "\n",
      "Tuckey \n",
      "\n",
      "Fowl \n",
      "\n",
      "Dove \n",
      "\n",
      "A Duck will make a great pet.\n",
      "A Tuckey will make a great pet.\n",
      "A Fowl will make a great pet.\n",
      "A Dove will make a great pet.\n",
      "\n",
      "All these animals have wings\n"
     ]
    }
   ],
   "source": [
    "#4.2: Animals\n",
    "#Think of at least three different animals that have a common characteristic. Store the names of these animals in a list, and then use a for loop to\n",
    "#print out the name of each animal.\n",
    "#Modify your program to print a statement about each animal, such as\n",
    "#A dog would make a great pet.\n",
    "#Add a line at the end of your program stating what these animals have in\n",
    "#common. You could print a sentence such as Any of these animals would\n",
    "#make a great pet!\n",
    "\n",
    "feathered_animals=['duck', 'tuckey', 'fowl', 'dove']\n",
    "#printing the names of each animal\n",
    "\n",
    "for animal in feathered_animals:\n",
    "    print(animal.title(),'\\n')\n",
    "    \n",
    "\n",
    "for animal in feathered_animals:\n",
    "    print(f'A {animal.title()} will make a great pet.')\n",
    "    \n",
    "print('\\nAll these animals have wings')"
   ]
  },
  {
   "cell_type": "code",
   "execution_count": 29,
   "metadata": {},
   "outputs": [
    {
     "name": "stdout",
     "output_type": "stream",
     "text": [
      "1\n",
      "2\n",
      "3\n",
      "4\n",
      "5\n",
      "6\n",
      "7\n",
      "8\n",
      "9\n",
      "10\n",
      "11\n",
      "12\n",
      "13\n",
      "14\n",
      "15\n",
      "16\n",
      "17\n",
      "18\n",
      "19\n",
      "20\n"
     ]
    }
   ],
   "source": [
    "#4.3: Counting to twenty, using a for loop\n",
    "# Use a for loop to print the numbers from 1 to 20,inclusive.\n",
    "\n",
    "for num in range(1,21):\n",
    "    print(num)\n",
    "\n"
   ]
  },
  {
   "cell_type": "code",
   "execution_count": 83,
   "metadata": {},
   "outputs": [
    {
     "name": "stdout",
     "output_type": "stream",
     "text": [
      "[1, 2, 3, 4, 5, 6, 7, 8, 9, 10, 11, 12, 13, 14, 15, 16, 17, 18, 19, 20, 21, 22, 23, 24, 25, 26, 27, 28, 29, 30, 31, 32, 33, 34, 35, 36, 37, 38, 39, 40, 41, 42, 43, 44, 45, 46, 47, 48, 49, 50, 51, 52, 53, 54, 55, 56, 57, 58, 59, 60, 61, 62, 63, 64, 65, 66, 67, 68, 69, 70, 71, 72, 73, 74, 75, 76, 77, 78, 79, 80, 81, 82, 83, 84, 85, 86, 87, 88, 89, 90, 91, 92, 93, 94, 95, 96, 97, 98, 99, 100]\n"
     ]
    },
    {
     "data": {
      "text/plain": [
       "5050"
      ]
     },
     "execution_count": 83,
     "metadata": {},
     "output_type": "execute_result"
    }
   ],
   "source": [
    "#4.4: One million\n",
    "#Make a list of the numbers from one to one 100,\n",
    "#and then use min() and max() to make sure your list actually starts at one and\n",
    "#ends at one million. Also, use the sum() function to see how quickly Python can\n",
    "#add a 100 numbers\n",
    "\n",
    "nums=[]\n",
    "for num in range(1, 101):\n",
    "    nums.append(num)\n",
    "print(nums)\n",
    "sum(nums)"
   ]
  },
  {
   "cell_type": "code",
   "execution_count": 41,
   "metadata": {},
   "outputs": [
    {
     "name": "stdout",
     "output_type": "stream",
     "text": [
      "range(1, 11)\n",
      "1\n",
      "2\n",
      "3\n",
      "4\n",
      "5\n",
      "6\n",
      "7\n",
      "8\n",
      "9\n",
      "10\n",
      "10\n",
      "1\n",
      "55\n"
     ]
    }
   ],
   "source": [
    "#4.5: \n",
    "\n",
    "nums=range (1,11)\n",
    "print(nums)\n",
    "\n",
    "for num in nums:\n",
    "    print(num)\n",
    "\n",
    "print(max(nums))\n",
    "print(min(nums))\n",
    "print(sum(nums))"
   ]
  },
  {
   "cell_type": "code",
   "execution_count": 46,
   "metadata": {},
   "outputs": [
    {
     "name": "stdout",
     "output_type": "stream",
     "text": [
      "1\n",
      "3\n",
      "5\n",
      "7\n",
      "9\n",
      "11\n",
      "13\n",
      "15\n",
      "17\n",
      "19\n",
      "range(1, 21, 2)\n",
      "1\n",
      "3\n",
      "5\n",
      "7\n",
      "9\n",
      "11\n",
      "13\n",
      "15\n",
      "17\n",
      "19\n"
     ]
    }
   ],
   "source": [
    "#4.6: Odd numbers\n",
    "\n",
    "# Use the third argument of the range() function to make a\n",
    "#list of the odd numbers from 1 to 20. Use a for loop to print each number\n",
    "\n",
    "nums=range (1,21)\n",
    "\n",
    "for num in nums:\n",
    "    if num%2!=0:\n",
    "        print(num)\n",
    "        \n",
    "#alternatively\n",
    "numbers=range(1,21,2)\n",
    "print(numbers)\n",
    "\n",
    "for num in numbers:\n",
    "    print(num)"
   ]
  },
  {
   "cell_type": "code",
   "execution_count": 49,
   "metadata": {},
   "outputs": [
    {
     "name": "stdout",
     "output_type": "stream",
     "text": [
      "3\n",
      "6\n",
      "9\n",
      "12\n",
      "15\n",
      "18\n",
      "21\n",
      "24\n",
      "27\n",
      "30\n"
     ]
    }
   ],
   "source": [
    "#4.7: Threes\n",
    "\n",
    "\n",
    "#Make a list of the multiples of 3 from 3 to 30. Use a for loop to\n",
    "#print the numbers in your list.\n",
    "\n",
    "nums=range(3,31,3)\n",
    "for num in nums:\n",
    "    print(num)"
   ]
  },
  {
   "cell_type": "code",
   "execution_count": 58,
   "metadata": {},
   "outputs": [
    {
     "name": "stdout",
     "output_type": "stream",
     "text": [
      "1\n",
      "8\n",
      "27\n",
      "64\n",
      "125\n",
      "216\n",
      "343\n",
      "512\n",
      "729\n",
      "1000\n",
      "[1, 8, 27, 64, 125, 216, 343, 512, 729, 1000]\n"
     ]
    }
   ],
   "source": [
    "#4.8: Cubes\n",
    "\n",
    "#printing the cubes of numbers 1-10\n",
    "\n",
    "#Make a list of the first 10 cubes (that\n",
    "#is, the cube of each integer from 1 through 10), and use a for loop to print out\n",
    "#the value of each cube.\n",
    "\n",
    "nums=range(1,11)\n",
    "\n",
    "for num in nums:\n",
    "    print(num**3)\n",
    "    \n",
    "#Alternatively\n",
    "\n",
    "y=[num**3 for num in nums]\n",
    "print(y)\n",
    "\n"
   ]
  },
  {
   "cell_type": "code",
   "execution_count": 67,
   "metadata": {},
   "outputs": [
    {
     "name": "stdout",
     "output_type": "stream",
     "text": [
      "The first three items on the list are: \n",
      "rice\n",
      "bean cake\n",
      "spag\n",
      "\n",
      "Three items from the middle of the list are: \n",
      "bean cake\n",
      "spag\n",
      "bread\n",
      "\n",
      "The last three items on the list are: \n",
      "spag\n",
      "bread\n",
      "noddles\n"
     ]
    }
   ],
   "source": [
    "#4.10: Slicing\n",
    "\n",
    "#Print the message The first three items in the list are:. Then use a slice to\n",
    "#print the first three items from that program’s list.\n",
    "#Print the message Three items from the middle of the list are:. Use a slice to\n",
    "#print three items from the middle of the list.\n",
    "#Print the message The last three items in the list are:. Use a slice to print the\n",
    "#last three items in the list.\n",
    "\n",
    "food= ['rice', 'bean cake', 'spag', 'bread', 'noddles']\n",
    "\n",
    "print('The first three items on the list are: ')\n",
    "for item in food[0:3]:\n",
    "      print(item)\n",
    "\n",
    "print('\\nThree items from the middle of the list are: ')\n",
    "for item in food[1:4]:\n",
    "      print(item)\n",
    "\n",
    "print('\\nThe last three items on the list are: ')\n",
    "for item in food[-3:]:\n",
    "      print(item)"
   ]
  },
  {
   "cell_type": "code",
   "execution_count": 74,
   "metadata": {},
   "outputs": [
    {
     "name": "stdout",
     "output_type": "stream",
     "text": [
      "Rice\n",
      "Beans\n",
      "Spag\n",
      "Soup\n",
      "Noddles\n",
      "\n",
      "\n",
      "Garri\n",
      "Beans\n",
      "Spag\n",
      "Soup\n",
      "Yam\n"
     ]
    }
   ],
   "source": [
    "#TUPLE\n",
    "\n",
    "#4.11:Buffet: A buffet-style restaurant offers only five basic foods. Think of five\n",
    "#simple foods, and store them in a tuple.\n",
    "#Use a for loop to print each food the restaurant offers.\n",
    "#Try to modify one of the items, and make sure that Python rejects the change.\n",
    "#The restaurant changes its menu, replacing two of the items with different\n",
    "#foods. Add a line that rewrites the tuple, and then use a for loop to print\n",
    "#each of the items on the revised menu.\n",
    "\n",
    "foods=('rice','beans', 'spag', 'soup', 'noddles')\n",
    "for food in foods:\n",
    "    print(food.title())\n",
    "    \n",
    "print('\\n') \n",
    "\n",
    "foods=('garri','beans', 'spag', 'soup', 'yam')\n",
    "for food in foods:\n",
    "    print(food.title())"
   ]
  },
  {
   "cell_type": "code",
   "execution_count": 81,
   "metadata": {},
   "outputs": [
    {
     "name": "stdout",
     "output_type": "stream",
     "text": [
      "My favorite pizzas are: \n",
      "chicken\n",
      "pepperoni\n",
      "beef\n",
      "\n",
      "My friend's favorite pizzas are: \n",
      "chicken\n",
      "pepperoni\n",
      "pasta\n"
     ]
    }
   ],
   "source": [
    " #Copying list\n",
    "    \n",
    "#Make a copy of the list of pizzas, and call it friend_pizzas.Then, do the following:\n",
    "#Add a new pizza to the original list.\n",
    "#Add a different pizza to the list friend_pizzas.\n",
    "#Prove that you have two separate lists. Print the message My favorite pizzas are:, \n",
    "#and then use a for loop to print the first list. Print the message\n",
    "#My friend’s favorite pizzas are:, \n",
    "#and then use a for loop to print the second list. \n",
    "#Make sure each new pizza is stored in the appropriate list.\n",
    "\n",
    "pizzas=['chicken', 'pepperoni']\n",
    "friend_pizzas=pizzas[:]\n",
    "pizzas.append('beef')\n",
    "friend_pizzas.append('pasta')\n",
    "\n",
    "print('My favorite pizzas are: ')\n",
    "for pizza in pizzas:\n",
    "    print(pizza)\n",
    "\n",
    "print(\"\\nMy friend's favorite pizzas are: \")\n",
    "for pizza in friend_pizzas:\n",
    "    print(pizza)"
   ]
  },
  {
   "cell_type": "code",
   "execution_count": null,
   "metadata": {},
   "outputs": [],
   "source": []
  }
 ],
 "metadata": {
  "kernelspec": {
   "display_name": "Python 3",
   "language": "python",
   "name": "python3"
  },
  "language_info": {
   "codemirror_mode": {
    "name": "ipython",
    "version": 3
   },
   "file_extension": ".py",
   "mimetype": "text/x-python",
   "name": "python",
   "nbconvert_exporter": "python",
   "pygments_lexer": "ipython3",
   "version": "3.7.0"
  }
 },
 "nbformat": 4,
 "nbformat_minor": 2
}
