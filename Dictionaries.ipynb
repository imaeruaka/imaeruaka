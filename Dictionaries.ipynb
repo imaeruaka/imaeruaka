{
 "cells": [
  {
   "cell_type": "code",
   "execution_count": 6,
   "metadata": {},
   "outputs": [
    {
     "name": "stdout",
     "output_type": "stream",
     "text": [
      "Joseph\n",
      "Imaeruaka\n",
      "28\n",
      "Port-Harcourt\n"
     ]
    }
   ],
   "source": [
    "#6-1. Person: Use a dictionary to store information about a person you know.\n",
    "\n",
    "#Store their first name, last name, age, and the city in which they live. You\n",
    "#should have keys such as first_name, last_name, age, and city. \n",
    "\n",
    "#Print each piece of information stored in your dictionary\n",
    "\n",
    "stored_info = {\n",
    "    'first_name' : 'Joseph',\n",
    "    'last_name' : 'Imaeruaka',\n",
    "    'age' : 28,\n",
    "    'city' : 'Port-Harcourt',\n",
    "    }\n",
    "\n",
    "print (stored_info['first_name'])\n",
    "print (stored_info['last_name'])\n",
    "print (stored_info['age'])\n",
    "print (stored_info['city'])"
   ]
  },
  {
   "cell_type": "code",
   "execution_count": 8,
   "metadata": {},
   "outputs": [
    {
     "name": "stdout",
     "output_type": "stream",
     "text": [
      "Joseph's favourite number is: 18\n",
      "\n",
      "Eric's favourite number is: 24\n",
      "\n",
      "Chiamaka's favourite number is: 22\n",
      "\n",
      "Obinna's favourite number is: 7\n",
      "\n",
      "Izu's favourite number is: 10\n"
     ]
    }
   ],
   "source": [
    "#6-2. Favorite Numbers: Use a dictionary to store people’s favorite numbers.\n",
    "\n",
    "#Think of five names, and use them as keys in your dictionary. Think of a favorite\n",
    "#number for each person, and store each as a value in your dictionary. \n",
    "\n",
    "#Print each person’s name and their favorite number. For even more fun, poll a few\n",
    "#friends and get some actual data for your program.\n",
    "\n",
    "favorite_numbers = {\n",
    "    'Joseph' : 18,\n",
    "    'Eric' : 24,\n",
    "    'Chiamaka' : 22,\n",
    "    'Obinna' : 7,\n",
    "    'Izu' : 10,\n",
    "    }\n",
    "\n",
    "print (f\"Joseph's favourite number is: {favorite_numbers['Joseph']}\\n\")\n",
    "print (f\"Eric's favourite number is: {favorite_numbers['Eric']}\\n\")\n",
    "print (f\"Chiamaka's favourite number is: {favorite_numbers['Chiamaka']}\\n\")\n",
    "print (f\"Obinna's favourite number is: {favorite_numbers['Obinna']}\\n\")\n",
    "print (f\"Izu's favourite number is: {favorite_numbers['Izu']}\")"
   ]
  },
  {
   "cell_type": "code",
   "execution_count": 37,
   "metadata": {},
   "outputs": [
    {
     "name": "stdout",
     "output_type": "stream",
     "text": [
      "del_:\n",
      "    This function is used to delete an items from the dictionary.\n",
      "\n",
      "Square  bracket:\n",
      "    The square bracket is used to pick the key values.\n",
      "\n",
      "Dictionaries:\n",
      "    A dictionary stores keys and values and is enclosed with braces.\n",
      "\n",
      "Get:\n",
      "    Get() is a fuction used to pick out a value, using the key of a dictionary\n",
      "\n",
      "List:\n",
      "    A list stored a series of data which are enclosed in square brackets\n"
     ]
    }
   ],
   "source": [
    "#6-3. Glossary: A Python dictionary can be used to model an actual dictionary.\n",
    "\n",
    "#However, to avoid confusion, let’s call it a glossary.\n",
    "#Think of five programming words you’ve learned about in the previous chapters. \n",
    "#Use these words as the keys in your glossary, and store their meanings as values.\n",
    "\n",
    "#Print each word and its meaning as neatly formatted output. You might\n",
    "#print the word followed by a colon and then its meaning, or print the word\n",
    "#on one line and then print its meaning indented on a second line. Use the\n",
    "#newline character (\\n) to insert a blank line between each word-meaning\n",
    "#pair in your output.\n",
    "\n",
    "new_words = {\n",
    "    'del_function' : 'del_:\\n    This function is used to delete an items from the dictionary.\\n',\n",
    "    \n",
    "    'square bracket' : 'Square  bracket:\\n    The square bracket is used to pick the key values.\\n',\n",
    "    \n",
    "    'dictionaries' : 'Dictionaries:\\n    A dictionary stores keys and values and is enclosed with braces.\\n',\n",
    "    \n",
    "    'get_function' : 'Get:\\n    Get() is a fuction used to pick out a value, using the key of a dictionary\\n',\n",
    "\n",
    "    'list' : 'List:\\n    A list stored a series of data which are enclosed in square brackets',\n",
    "    }\n",
    "\n",
    "print(new_words['del_function'])\n",
    "print(new_words['square bracket'])\n",
    "print(new_words['dictionaries'])\n",
    "print(new_words['get_function'])\n",
    "print(new_words['list'])\n",
    "\n"
   ]
  },
  {
   "cell_type": "code",
   "execution_count": 49,
   "metadata": {},
   "outputs": [
    {
     "name": "stdout",
     "output_type": "stream",
     "text": [
      "\n",
      "keys: nnn\n",
      "and\n",
      "value: b\n",
      "\n",
      "keys: hhh\n",
      "and\n",
      "value: v\n",
      "\n",
      "keys: fff\n",
      "and\n",
      "value: e\n",
      "\n",
      "the names of everyone are:\n",
      "*b\n",
      "*v\n",
      "*e\n"
     ]
    }
   ],
   "source": [
    "new_ = {'nnn': 'b', \n",
    "            'hhh': 'v', \n",
    "        --snip--    \n",
    "        'fff': 'e'\n",
    "       }\n",
    "for k, v in new_.items():\n",
    "    print(f'\\nkeys:--snip-- {k}\\nand')\n",
    "    print(f'value: {v}')\n",
    "\n",
    "    print('\\nthe names of everyone are:')\n",
    "for names in new_.values():\n",
    "    print(f'*{names}')"
   ]
  },
  {
   "cell_type": "code",
   "execution_count": 56,
   "metadata": {},
   "outputs": [
    {
     "name": "stdout",
     "output_type": "stream",
     "text": [
      "Niger runs through Nigeria.\n",
      "\n",
      "Nile runs through Egypt.\n",
      "\n",
      "Benue runs through Nigeria.\n",
      "\n",
      "Niger\n",
      "Nile\n",
      "Benue\n",
      "Nigeria\n",
      "Egypt\n",
      "Nigeria\n"
     ]
    }
   ],
   "source": [
    "#6-5. Rivers: Make a dictionary containing three major rivers and the country\n",
    "#each river runs through. One key-value pair might be 'nile': 'egypt'.\n",
    "\n",
    "#Use a loop to print a sentence about each river, such as The Nile runs through Egypt.\n",
    "#Use a loop to print the name of each river included in the dictionary.\n",
    "#Use a loop to print the name of each country included in the dictionary.\n",
    "\n",
    "rivers = {'niger' : 'nigeria', 'nile' : 'egypt', 'benue' : 'nigeria'}\n",
    "\n",
    "for river, country in rivers.items():\n",
    "    print(f'{river.title()} runs through {country.title()}.\\n')\n",
    "    \n",
    "for river in rivers:\n",
    "    print(river.title())\n",
    "    \n",
    "for country in rivers.values():\n",
    "    print(country.title())"
   ]
  },
  {
   "cell_type": "code",
   "execution_count": 69,
   "metadata": {},
   "outputs": [
    {
     "name": "stdout",
     "output_type": "stream",
     "text": [
      "Thanks Sarah for responding to our poll.\n",
      "\n",
      "Thanks Phil for responding to our poll.\n",
      "\n",
      "Hi Joseph, you are invited to take the poll.\n",
      "\n",
      "Hi John, you are invited to take the poll.\n",
      "\n",
      "Hi Eric, you are invited to take the poll.\n",
      "\n",
      "Hi Peter, you are invited to take the poll.\n",
      "\n",
      "Hi Rex, you are invited to take the poll.\n",
      "\n"
     ]
    }
   ],
   "source": [
    "#6-6. Polling: Use the code in favorite_languages.py\n",
    "\n",
    "#Make a list of people who should take the favorite languages poll. Include\n",
    "#some names that are already in the dictionary and some that are not.\n",
    "#Loop through the list of people who should take the poll. If they have\n",
    "#already taken the poll, print a message thanking them for responding.\n",
    "#If they have not yet taken the poll, print a message inviting them to take the poll.\n",
    "\n",
    "favorite_languages = {\n",
    "    'jen' : 'python',\n",
    "    'sarah' : 'c',\n",
    "    'edward' : 'ruby',\n",
    "    'phil' : 'python',\n",
    "    }\n",
    "\n",
    "poll_names = ['joseph', 'sarah', 'john', 'phil', 'eric', 'peter', 'rex']\n",
    "\n",
    "for name in favorite_languages.keys():\n",
    "    if name in poll_names:\n",
    "        print(f'Thanks {name.title()} for responding to our poll.\\n')\n",
    "for name in poll_names:\n",
    "    if name not in favorite_languages.keys():\n",
    "        print(f'Hi {name.title()}, you are invited to take the poll.\\n')\n",
    "    "
   ]
  },
  {
   "cell_type": "code",
   "execution_count": 73,
   "metadata": {},
   "outputs": [
    {
     "name": "stdout",
     "output_type": "stream",
     "text": [
      "5\n"
     ]
    }
   ],
   "source": [
    "x=[]\n",
    "for num in range(5):\n",
    "    num= {1:'rr'}\n",
    "    x.append(num)\n",
    "print(len(x))"
   ]
  },
  {
   "cell_type": "code",
   "execution_count": 83,
   "metadata": {},
   "outputs": [
    {
     "name": "stdout",
     "output_type": "stream",
     "text": [
      "\n",
      " {'first_name': 'Joseph', 'last_name': 'Imaeruaka', 'age': 28, 'city': 'Port-Harcourt'}\n",
      "\n",
      " {'first_name': 'Eric', 'last_name': 'Ilobi', 'age': 26, 'city': 'Lagos'}\n",
      "\n",
      " {'first_name': 'Izu', 'last_name': 'Ekeokwu', 'age': 30, 'city': 'Abeokuta'}\n"
     ]
    }
   ],
   "source": [
    "#6-7. People: Start with the program you wrote for Exercise 6-1.\n",
    "\n",
    "#Make two new dictionaries representing different people, and store all three\n",
    "#dictionaries in a list called people. Loop through your list of people. As you\n",
    "#loop through the list, print everything you know about each person.\n",
    "\n",
    "stored_info1 = {\n",
    "    'first_name': 'Joseph',\n",
    "    'last_name': 'Imaeruaka',\n",
    "    'age': 28,\n",
    "    'city' : 'Port-Harcourt',\n",
    "    }\n",
    "\n",
    "stored_info2 = {\n",
    "    'first_name': 'Eric',\n",
    "    'last_name': 'Ilobi',\n",
    "    'age': 26,\n",
    "    'city': 'Lagos'\n",
    "    }\n",
    "\n",
    "stored_info3 = {\n",
    "    'first_name': 'Izu',\n",
    "    'last_name': 'Ekeokwu',\n",
    "    'age': 30,\n",
    "    'city': 'Abeokuta',\n",
    "    }\n",
    "\n",
    "people = [stored_info1, stored_info2, stored_info3]\n",
    "\n",
    "for info in people:\n",
    "    print ('\\n', info)"
   ]
  },
  {
   "cell_type": "code",
   "execution_count": 82,
   "metadata": {},
   "outputs": [
    {
     "name": "stdout",
     "output_type": "stream",
     "text": [
      "\n",
      " {'animal': 'dog', 'owner': 'Izu'}\n",
      "\n",
      " {'animal': 'cat', 'owner': 'Miriam'}\n",
      "\n",
      " {'animal': 'rabbit', 'owner': 'Phillip'}\n",
      "\n",
      " {'animal': 'parrot', 'owner': 'Rita'}\n",
      "\n",
      " {'animal': 'dove', 'owner': 'Prince'}\n"
     ]
    }
   ],
   "source": [
    "#6-8. Pets: Make several dictionaries, where each dictionary represents a different pet. \n",
    "\n",
    "#In each dictionary, include the kind of animal and the owner’s name.\n",
    "#Store these dictionaries in a list called pets. Next, loop through your list and as\n",
    "#you do, print everything you know about each pet.\n",
    "\n",
    "pet_1 = {'animal': 'dog', 'owner': 'Izu'}\n",
    "\n",
    "pet_2 = {'animal': 'cat', 'owner': 'Miriam'}\n",
    "\n",
    "pet_3 = {'animal': 'rabbit', 'owner': 'Phillip'}\n",
    "\n",
    "pet_4 = {'animal': 'parrot', 'owner': 'Rita'}\n",
    "\n",
    "pet_5 = {'animal': 'dove', 'owner': 'Prince'}\n",
    "\n",
    "pets = [pet_1, pet_2, pet_3, pet_4, pet_5]\n",
    "\n",
    "for pet_info in pets:\n",
    "    print('\\n',pet_info)"
   ]
  },
  {
   "cell_type": "code",
   "execution_count": 97,
   "metadata": {},
   "outputs": [
    {
     "name": "stdout",
     "output_type": "stream",
     "text": [
      "Joseph's favourite places are:\n",
      "    ['Lagos', 'Nigeria']\n",
      "    \n",
      "Izu's favourite places are:\n",
      "    ['Ogun', 'Lagos', 'Awka']\n",
      "    \n",
      "Eric's favourite places are:\n",
      "    ['Lagos', 'Awka', 'Ibadan', 'Edo']\n",
      "    \n"
     ]
    }
   ],
   "source": [
    "#6-9. Favorite Places: Make a dictionary called favorite_places. \n",
    "\n",
    "#Think of three names to use as keys in the dictionary, and store one to three favorite places\n",
    "#for each person. \n",
    "\n",
    "#To make this exercise a bit more interesting, ask some friends to name a few of their favorite places. \n",
    "\n",
    "#Loop through the dictionary, and print each person’s name and their favorite places.\n",
    "\n",
    "favorite_places = {\n",
    "    'Joseph': ['Lagos', 'Nigeria'],\n",
    "    'Izu': ['Ogun', 'Lagos', 'Awka'],\n",
    "    'Eric': ['Lagos', 'Awka', 'Ibadan', 'Edo'],\n",
    "    }\n",
    "\n",
    "for name, places in favorite_places.items():\n",
    "    print(f'''{name}'s favourite places are:\n",
    "    {places}\n",
    "    ''')\n",
    "    "
   ]
  },
  {
   "cell_type": "code",
   "execution_count": 102,
   "metadata": {},
   "outputs": [
    {
     "name": "stdout",
     "output_type": "stream",
     "text": [
      "Joseph's favorite numbers are:\n",
      "    [18, 33]\n",
      "    \n",
      "Eric's favorite numbers are:\n",
      "    [24, 20, 10]\n",
      "    \n",
      "Chiamaka's favorite numbers are:\n",
      "    [22, 100, 64]\n",
      "    \n",
      "Obinna's favorite numbers are:\n",
      "    [7, 13, 9, 16]\n",
      "    \n",
      "Izu's favorite numbers are:\n",
      "    [10]\n",
      "    \n"
     ]
    }
   ],
   "source": [
    "#6-10. Favorite Numbers: Modify your program from Exercise 6-2\n",
    "\n",
    "#so each person can have more than one favorite number. \n",
    "#Then print each person’s name along with their favorite numbers\n",
    "\n",
    "favorite_numbers = {\n",
    "    'Joseph' : [18, 33],\n",
    "    'Eric' : [24, 20, 10],\n",
    "    'Chiamaka' : [22, 100, 64],\n",
    "    'Obinna' : [7, 13, 9, 16],\n",
    "    'Izu' : [10,],\n",
    "    }\n",
    "\n",
    "for name, numbers in favorite_numbers.items():\n",
    "    print(f'''{name}'s favorite numbers are:\n",
    "    {numbers}\n",
    "    ''')"
   ]
  },
  {
   "cell_type": "code",
   "execution_count": 107,
   "metadata": {},
   "outputs": [
    {
     "name": "stdout",
     "output_type": "stream",
     "text": [
      "Port Harcourt's basic informations are:\n",
      "    {'country': 'Nigeria', 'population': 234000, 'fact': 'High cost of living'}\n",
      "    \n",
      "Lagos's basic informations are:\n",
      "    {'country': 'Nigeria', 'population': 567000, 'fact': 'Too crowded'}\n",
      "    \n",
      "Onitsha's basic informations are:\n",
      "    {'country': 'Nigeria', 'population': 445000, 'fact': 'Business inclined'}\n",
      "    \n"
     ]
    }
   ],
   "source": [
    "#6-11. Cities: Make a dictionary called cities. \n",
    "\n",
    "#Use the names of three cities as keys in your dictionary. \n",
    "#Create a dictionary of information about each city and\n",
    "#include the country that the city is in, its approximate population, and one fact about that city. \n",
    "\n",
    "#The keys for each city’s dictionary should be something like\n",
    "#country, population, and fact. \n",
    "\n",
    "#Print the name of each city and all of the information you have stored about it.\n",
    "\n",
    "cities = {'Port Harcourt': {'country': 'Nigeria',\n",
    "                               'population': 234000,\n",
    "                                'fact': 'High cost of living',\n",
    "                               },\n",
    "          \n",
    "              'Lagos': {'country': 'Nigeria',\n",
    "                        'population': 567000,\n",
    "                        'fact': 'Too crowded',\n",
    "                        },\n",
    "          \n",
    "              'Onitsha': {'country': 'Nigeria',\n",
    "                          'population': 445000,\n",
    "                          'fact': 'Business inclined',\n",
    "                          },\n",
    "         }\n",
    "\n",
    "\n",
    "for city_name, infos in cities.items():\n",
    "    print(f'''{city_name}'s basic informations are:\n",
    "    {infos}\n",
    "    ''')\n"
   ]
  },
  {
   "cell_type": "code",
   "execution_count": null,
   "metadata": {},
   "outputs": [],
   "source": []
  }
 ],
 "metadata": {
  "kernelspec": {
   "display_name": "Python 3",
   "language": "python",
   "name": "python3"
  },
  "language_info": {
   "codemirror_mode": {
    "name": "ipython",
    "version": 3
   },
   "file_extension": ".py",
   "mimetype": "text/x-python",
   "name": "python",
   "nbconvert_exporter": "python",
   "pygments_lexer": "ipython3",
   "version": "3.7.0"
  }
 },
 "nbformat": 4,
 "nbformat_minor": 2
}
