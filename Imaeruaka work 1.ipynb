{
 "cells": [
  {
   "cell_type": "code",
   "execution_count": null,
   "metadata": {},
   "outputs": [],
   "source": [
    "#learning how to use print function in python\n",
    "#Exploring the use of \\n, to print on next line and the use of ',' and '+' in strings\n",
    "#Also eploring the use of single qoute,double quote and triple qoute\n",
    "#Writing a program that allows a person to personalize a story.\n",
    "print('Hello! World')"
   ]
  },
  {
   "cell_type": "code",
   "execution_count": null,
   "metadata": {},
   "outputs": [],
   "source": [
    "print('There was once a movie star icon\\nwho prefered to sleep with the light on.')"
   ]
  },
  {
   "cell_type": "code",
   "execution_count": null,
   "metadata": {},
   "outputs": [],
   "source": [
    "print('''They learned how to code a\n",
    "a device that sure glowed\n",
    "and lit up the night using Python!\n",
    "And it was all for fun.''')"
   ]
  },
  {
   "cell_type": "code",
   "execution_count": null,
   "metadata": {},
   "outputs": [],
   "source": [
    "print(\"Hi, I'm Imaeruaka Joseph.\")\n"
   ]
  },
  {
   "cell_type": "code",
   "execution_count": 8,
   "metadata": {},
   "outputs": [
    {
     "name": "stdout",
     "output_type": "stream",
     "text": [
      "Hello! Imaeruaka Joseph\n",
      "Hello! Imaeruaka Joseph\n"
     ]
    }
   ],
   "source": [
    "myName='Imaeruaka Joseph'\n",
    "print('Hello! '+myName)\n",
    "print('Hello!',myName)"
   ]
  },
  {
   "cell_type": "code",
   "execution_count": 21,
   "metadata": {},
   "outputs": [
    {
     "name": "stdout",
     "output_type": "stream",
     "text": [
      "Hi Dear!!!\n",
      "Good day.\n",
      "I trust you're doing great.\n",
      "Welcome to Imaeruaka's taxi...\n",
      "\n",
      "\n",
      "What's your name please? Imaeruaka Joseph\n",
      "\n",
      "    It's nice meeting you IMAERUAKA JOSEPH\n",
      "What destination are you headed for?\n",
      "Mainland, Middleland or Upperland\n",
      "...middleland\n",
      "Here we go Middleland!!!\n",
      "\n",
      "    Dear IMAERUAKA JOSEPH The TOTAL cost for your journey\n",
      "    is $150\n"
     ]
    }
   ],
   "source": [
    "#Summary of the code below\n",
    "#The code displays a short personalized story to a taxi passenge after taking few data from them\n",
    "#Summary of the code below\n",
    "#The code displays a short personalized story to a taxi passenge after taking few data from them\n",
    "print(\"Hi Dear!!!\\nGood day.\\nI trust you're doing great.\\nWelcome to Imaeruaka's taxi...\")\n",
    "print('''\n",
    "''')\n",
    "fullName=str(input(\"What's your name please? \").upper())\n",
    "if fullName==fullName:\n",
    "    print('''\n",
    "    It's nice meeting you''',fullName )\n",
    "\n",
    "destination=str(input(\"What destination are you headed for?\\nMainland, Middleland or Upperland\\n...\").upper())\n",
    "if destination=='MAINLAND':\n",
    "    \n",
    "    print('Here we go Mainland!!!')\n",
    "    print('''\n",
    "    Dear''',fullName,'''The TOTAL cost for your journey\n",
    "    is {} Dollars'''.format(\"$ 100\"))\n",
    "    \n",
    "elif destination=='MIDDLELAND':\n",
    "    \n",
    "    print('Here we go Middleland!!!')\n",
    "    print('''\n",
    "    Dear''',fullName,'''The TOTAL cost for your journey\n",
    "    is {}'''.format(\"$150\"))\n",
    "\n",
    "elif destination=='UPPERLAND':\n",
    "    print('Here we go Upperland!!!')\n",
    "    print('''\n",
    "    Dear''',fullName,'''The TOTAL cost for your journey\n",
    "    is {}'''.format(\"$200\"))\n",
    "else:\n",
    "    \n",
    "    if destination != 'MAINLAND'or 'MIDDLELAND'and'UPPERLAND':\n",
    "        print('Sorry, we cover only Mainland, Middleland and Upperland\\nYou should consider taking another taxi')\n"
   ]
  },
  {
   "cell_type": "code",
   "execution_count": null,
   "metadata": {},
   "outputs": [],
   "source": []
  },
  {
   "cell_type": "code",
   "execution_count": null,
   "metadata": {},
   "outputs": [],
   "source": []
  }
 ],
 "metadata": {
  "kernelspec": {
   "display_name": "Python 3",
   "language": "python",
   "name": "python3"
  },
  "language_info": {
   "codemirror_mode": {
    "name": "ipython",
    "version": 3
   },
   "file_extension": ".py",
   "mimetype": "text/x-python",
   "name": "python",
   "nbconvert_exporter": "python",
   "pygments_lexer": "ipython3",
   "version": "3.7.0"
  }
 },
 "nbformat": 4,
 "nbformat_minor": 2
}
