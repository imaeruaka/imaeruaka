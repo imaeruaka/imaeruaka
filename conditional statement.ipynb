{
 "cells": [
  {
   "cell_type": "code",
   "execution_count": 27,
   "metadata": {},
   "outputs": [
    {
     "data": {
      "text/plain": [
       "False"
      ]
     },
     "execution_count": 27,
     "metadata": {},
     "output_type": "execute_result"
    }
   ],
   "source": [
    "#5.2: More on conditional statement\n",
    "\n",
    "#Tests for equality and inequality with strings\n",
    "\n",
    "food = 'rice'\n",
    "\n",
    "food == 'rice'\n",
    "food != 'rice'\n",
    "\n",
    "#Tests using the lower() method\n",
    "bag='GUCCI'\n",
    "\n",
    "bag.lower() == 'GUCCI'\n",
    "bag.lower() != 'GUCCI'\n",
    "\n",
    "#Numerical tests involving equality and inequality, greater than and\n",
    "#less than, greater than or equal to, and less than or equal to\n",
    "num1 = 10\n",
    "num2 = 15\n",
    "\n",
    "num1 == 15\n",
    "num1 != 15\n",
    "\n",
    "num2 == 10\n",
    "num2 != 10\n",
    "\n",
    "num1 > num2\n",
    "num2 <= num1\n",
    "\n",
    "#Tests using the and keyword and the or keyword\n",
    "num1 > 15 and num1 < 15\n",
    "num1 > 15 and num2 < 15\n",
    "\n",
    "num1 >= 15 or num1 == 15\n",
    "num1 >= 15 or num2 == 15\n",
    "\n",
    "num1 <= 15 or num1 == 15\n",
    "num1 >= 15 or num2 <= 15\n",
    "\n",
    "#Test whether an item is in a list\n",
    "\n",
    "soap = ['eva', 'ivory', 'delta', 'joy']\n",
    "'ivory' in soap\n",
    "'soap' in soap\n",
    "#Test whether an item is not in a list\n",
    "\n",
    "'colie' not in soap\n",
    "'eva' not in soap"
   ]
  },
  {
   "cell_type": "code",
   "execution_count": 31,
   "metadata": {},
   "outputs": [
    {
     "name": "stdout",
     "output_type": "stream",
     "text": [
      "What's your age? (sample: 44, ONLY NUMBER REQUIRED) \n",
      "77\n",
      "You are eligible to vote!!!\n",
      "\n",
      "Are you registered to vote yet?\n"
     ]
    }
   ],
   "source": [
    "#checking for voters eligibility to vote\n",
    "\n",
    "voters_age = int(input(\"What's your age? (sample: 44, ONLY NUMBER REQUIRED) \\n\"))\n",
    "\n",
    "if voters_age >= 18:\n",
    "    print('You are eligible to vote!!!\\n\\nAre you registered to vote yet?')\n",
    "else:\n",
    "    print('You are not eligible to vote, until you are up to age.')\n",
    "    "
   ]
  },
  {
   "cell_type": "code",
   "execution_count": 38,
   "metadata": {},
   "outputs": [
    {
     "name": "stdout",
     "output_type": "stream",
     "text": [
      "You just earned 5 points\n"
     ]
    }
   ],
   "source": [
    "#5.3: Alien Colors 1: \n",
    "#Imagine an alien was just shot down in a game. Create a\n",
    "#variable called alien_color and assign it a value of 'green', 'yellow', or 'red'.\n",
    "#Write an if statement to test whether the alien’s color is green. If it is, print\n",
    "#a message that the player just earned 5 points.\n",
    "#Write one version of this program that passes the if test and another that\n",
    "#fails. (The version that fails will have no output.\n",
    "\n",
    "alien_color = 'yellow'\n",
    "\n",
    "if alien_color == 'yellow':\n",
    "    print('You just earned 5 points')\n"
   ]
  },
  {
   "cell_type": "code",
   "execution_count": 41,
   "metadata": {},
   "outputs": [
    {
     "name": "stdout",
     "output_type": "stream",
     "text": [
      "\n",
      "You just earned 10 points for shooting the alien.\n",
      "\n",
      "You just earned 10 points for shooting the alien.\n"
     ]
    }
   ],
   "source": [
    "#5.4:\n",
    "\n",
    "#If the alien’s color is green, print a statement that the player just earned\n",
    "#5 points for shooting the alien.\n",
    "#If the alien’s color isn’t green, print a statement that the player just earned 10 points.\n",
    "\n",
    "#Write one version of this program that runs the if block and another that runs the else block\n",
    "\n",
    "#version 1\n",
    "alien_colour = 'gray'\n",
    "\n",
    "if alien_colour == 'green':\n",
    "    print('You just earned 5 points for shooting the alien.')\n",
    "\n",
    "if alien_colour != 'green':\n",
    "    print('\\nYou just earned 10 points for shooting the alien.')\n",
    "\n",
    "#version 2\n",
    "\n",
    "if alien_colour == 'green':\n",
    "    print('You just earned 5 points for shooting the alien.')\n",
    "\n",
    "else:\n",
    "    print('\\nYou just earned 10 points for shooting the alien.')\n"
   ]
  },
  {
   "cell_type": "code",
   "execution_count": 45,
   "metadata": {},
   "outputs": [
    {
     "name": "stdout",
     "output_type": "stream",
     "text": [
      "You just earned 5 points.\n",
      "\n",
      "You just earned 10 points.\n",
      "\n",
      "You just earned 15 points.\n"
     ]
    }
   ],
   "source": [
    "#5-5. Alien Colors: Turn your if-else chain from Exercise 5-4 into an if-elifelse chain.\n",
    "\n",
    "#If the alien is green, print a message that the player earned 5 points.\n",
    "#If the alien is yellow, print a message that the player earned 10 points.\n",
    "#If the alien is red, print a message that the player earned 15 points.\n",
    "\n",
    "#Write three versions of this program, making sure each message is printed\n",
    "#for the appropriate color alien\n",
    "\n",
    "alien_colour = 'green'\n",
    "\n",
    "if alien_colour == 'green':\n",
    "    print('You just earned 5 points.')\n",
    "\n",
    "elif alien_colour == 'yellow':\n",
    "    print('\\nYou just earned 10 points.')\n",
    "\n",
    "elif alien_colour == 'red':\n",
    "    print('\\nYou just earned 15 points.')\n",
    "    \n",
    "\n",
    "alien_colour = 'yellow'\n",
    "\n",
    "if alien_colour == 'green':\n",
    "    print('You just earned 5 points.')\n",
    "\n",
    "elif alien_colour == 'yellow':\n",
    "    print('\\nYou just earned 10 points.')\n",
    "\n",
    "elif alien_colour == 'red':\n",
    "    print('\\nYou just earned 15 points.')\n",
    "\n",
    "\n",
    "alien_colour = 'red'\n",
    "\n",
    "if alien_colour == 'green':\n",
    "    print('You just earned 5 points.')\n",
    "\n",
    "elif alien_colour == 'yellow':\n",
    "    print('\\nYou just earned 10 points.')\n",
    "\n",
    "elif alien_colour == 'red':\n",
    "    print('\\nYou just earned 15 points.')"
   ]
  },
  {
   "cell_type": "code",
   "execution_count": 53,
   "metadata": {},
   "outputs": [
    {
     "name": "stdout",
     "output_type": "stream",
     "text": [
      "This person is a kid.\n"
     ]
    }
   ],
   "source": [
    "#5-6. Stages of Life: Write an if-elif-else chain that determines a person’s\n",
    "#stage of life. Set a value for the variable age, and then:\n",
    " \n",
    "#If the person is less than 2 years old, print a message that the person is a baby.\n",
    "#If the person is at least 2 years old but less than 4, print a message that the person is a toddler.\n",
    "#If the person is at least 4 years old but less than 13, print a message that the person is a kid.\n",
    "#If the person is at least 13 years old but less than 20, print a message thatthe person is a teenager.\n",
    "#If the person is at least 20 years old but less than 65, print a message that the person is an adult.\n",
    "#If the person is age 65 or older, print a message that the person is an elder.\n",
    "\n",
    "age = 4\n",
    "\n",
    "if age < 2:\n",
    "    print('This person is a baby.')\n",
    "\n",
    "elif age >= 2 and age < 4:\n",
    "    print('This person is a toddler.')\n",
    "\n",
    "elif age >= 4 and age < 13:\n",
    "    print('This person is a kid.')\n",
    "\n",
    "elif age >= 13 and age < 20:\n",
    "    print('This person is a teenager.')\n",
    "\n",
    "elif age >= 20 and age < 65:\n",
    "    print('This person is an adult.')\n",
    "\n",
    "else:\n",
    "    print('This person is an elder')"
   ]
  },
  {
   "cell_type": "code",
   "execution_count": 60,
   "metadata": {},
   "outputs": [
    {
     "name": "stdout",
     "output_type": "stream",
     "text": [
      "I Really Like Mango\n",
      "I Really Love Banana\n",
      "I Like Eating Apple\n"
     ]
    }
   ],
   "source": [
    "#5-7. Favorite Fruit: Make a list of your favorite fruits, and then write a series of\n",
    "#independent if statements that check for certain fruits in your list.\n",
    "\n",
    "#Make a list of your three favorite fruits and call it favorite_fruits.\n",
    "#Write five if statements. Each should check whether a certain kind of fruit\n",
    "#is in your list. If the fruit is in your list, the if block should print a statement,\n",
    "#such as You really like bananas!\n",
    "\n",
    "favorite_fruits = ['mango', 'banana', 'apple', 'orange', 'peer']\n",
    "if 'mango' in favorite_fruits:\n",
    "    print('I really like mango'.title())\n",
    "if 'banana' in favorite_fruits:\n",
    "    print('I really love banana'.title())\n",
    "if 'apple' in favorite_fruits:\n",
    "    print('I like eating apple'.title())\n"
   ]
  },
  {
   "cell_type": "code",
   "execution_count": 72,
   "metadata": {},
   "outputs": [
    {
     "name": "stdout",
     "output_type": "stream",
     "text": [
      "Hello Joseph, thank you for logging in again.\n",
      "\n",
      "Hello Eric, thank you for logging in again.\n",
      "\n",
      "Hello John, thank you for logging in again.\n",
      "\n",
      "Hello Admin, would you like to see a status report?\n",
      "\n",
      "Hello Izu, thank you for logging in again.\n",
      "\n"
     ]
    }
   ],
   "source": [
    "#5-8. Hello Admin: \n",
    "\n",
    "#Make a list of five or more usernames, including the name'admin'. \n",
    "#Imagine you are writing code that will print a greeting to each user\n",
    "#after they log in to a website. Loop through the list, and print a greeting to each user:\n",
    "\n",
    "#If the username is 'admin', print a special greeting, such as Hello admin,\n",
    "#would you like to see a status report?\n",
    "#Otherwise, print a generic greeting, such as Hello Jaden, thank you for logging in again.\n",
    "\n",
    "user_names = ['Joseph', 'Eric', 'John', 'Admin', 'Izu']\n",
    "\n",
    "for name in user_names:\n",
    "    if name == 'Admin':\n",
    "        print('Hello Admin, would you like to see a status report?\\n')\n",
    "    else:\n",
    "        print(f'Hello {name}, thank you for logging in again.\\n')\n",
    "\n",
    "        "
   ]
  },
  {
   "cell_type": "code",
   "execution_count": 74,
   "metadata": {},
   "outputs": [
    {
     "name": "stdout",
     "output_type": "stream",
     "text": [
      "We need to find users\n"
     ]
    }
   ],
   "source": [
    "#5-9. No Users: Add an if test to hello_admin.py to make sure the list of users is not empty.\n",
    "\n",
    "#If the list is empty, print the message We need to find some users!\n",
    "#Remove all of the usernames from your list, and make sure the correct message is printed\n",
    "\n",
    "user_names = []\n",
    "\n",
    "if user_names:\n",
    "    for name in user_names:\n",
    "        if name == 'Admin':\n",
    "            print('Hello Admin, would you like to see a status report?\\n')\n",
    "        else:\n",
    "            print(f'Hello {name}, thank you for logging in again.\\n')\n",
    "else:\n",
    "    print('We need to find users')"
   ]
  },
  {
   "cell_type": "code",
   "execution_count": 96,
   "metadata": {},
   "outputs": [
    {
     "name": "stdout",
     "output_type": "stream",
     "text": [
      "Username:samuel, is available.\n",
      "Username:peter, is available.\n",
      "Username:ERIC, has already been used. Enter a new username\n",
      "Username:joseph, has already been used. Enter a new username\n",
      "Username:Ruth, is available.\n",
      "Username:ADMIN, has already been used. Enter a new username\n"
     ]
    }
   ],
   "source": [
    "#5-10. Checking Usernames: Do the following to create a program that simulates\n",
    "#how websites ensure that everyone has a unique username.\n",
    "\n",
    "#Make a list of five or more usernames called current_users.\n",
    "#Make another list of five usernames called new_users. Make sure one or\n",
    "#two of the new usernames are also in the current_users list.\n",
    "\n",
    "#Loop through the new_users list to see if each new username has already\n",
    "#been used. If it has, print a message that the person will need to enter a\n",
    "#new username. If a username has not been used, print a message saying that the username is available.\n",
    "\n",
    "#Make sure your comparison is case insensitive. If 'John' has been used,\n",
    "#'JOHN' should not be accepted. (To do this, you’ll need to make a copy of\n",
    "#current_users containing the lowercase versions of all existing users.)\n",
    "\n",
    "\n",
    "current_users = ['JOHN', 'ERIC', 'JOHN', 'ADMIN', 'IZU']\n",
    "current_users_lower = ['joseph', 'eric', 'john', 'admin', 'izu']\n",
    "\n",
    "new_users = ['samuel', 'peter', 'ERIC', 'joseph', 'Ruth','ADMIN']\n",
    "\n",
    "for new_user in new_users:\n",
    "    if new_user in current_users and current_users_lower:\n",
    "        print(f'Username:{new_user}, has already been used. Enter a new username')\n",
    "    elif new_user in current_users_lower:\n",
    "        print(f'Username:{new_user}, has already been used. Enter a new username')\n",
    "    else:\n",
    "        print(f'Username:{new_user}, is available.')\n",
    "        \n"
   ]
  },
  {
   "cell_type": "code",
   "execution_count": 104,
   "metadata": {},
   "outputs": [
    {
     "name": "stdout",
     "output_type": "stream",
     "text": [
      "1st\n",
      "2nd\n",
      "3rd\n",
      "4th\n",
      "5th\n",
      "6th\n",
      "7th\n",
      "8th\n",
      "9th\n"
     ]
    }
   ],
   "source": [
    "#5-11. Ordinal Numbers: Ordinal numbers indicate their position in a list, such\n",
    "#as 1st or 2nd. Most ordinal numbers end in th, except 1, 2, and 3.\n",
    "\n",
    "#Store the numbers 1 through 9 in a list.\n",
    "#Loop through the list.\n",
    "#Use an if-elif-else chain inside the loop to print the proper ordinal ending for each number. \n",
    "#Your output should read \"1st 2nd 3rd 4th 5th 6th\n",
    "#7th 8th 9th\", and each result should be on a separate line.\n",
    "\n",
    "numbers=range(1,10)\n",
    "for num in numbers:\n",
    "    if num == 1:\n",
    "        print(str(num)+'st')\n",
    "    elif num == 2:\n",
    "        print(str(num)+'nd')\n",
    "    elif num == 3:\n",
    "        print(str(num)+'rd')\n",
    "    else:\n",
    "        print(str(num)+'th')"
   ]
  },
  {
   "cell_type": "code",
   "execution_count": null,
   "metadata": {},
   "outputs": [],
   "source": []
  }
 ],
 "metadata": {
  "kernelspec": {
   "display_name": "Python 3",
   "language": "python",
   "name": "python3"
  },
  "language_info": {
   "codemirror_mode": {
    "name": "ipython",
    "version": 3
   },
   "file_extension": ".py",
   "mimetype": "text/x-python",
   "name": "python",
   "nbconvert_exporter": "python",
   "pygments_lexer": "ipython3",
   "version": "3.7.0"
  }
 },
 "nbformat": 4,
 "nbformat_minor": 2
}
